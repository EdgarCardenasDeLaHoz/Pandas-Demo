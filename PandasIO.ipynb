{
 "cells": [
  {
   "cell_type": "code",
   "execution_count": null,
   "metadata": {},
   "outputs": [],
   "source": [
    "print(\"Hello World\")"
   ]
  },
  {
   "cell_type": "code",
   "execution_count": null,
   "metadata": {},
   "outputs": [],
   "source": [
    "!pip install pandas"
   ]
  },
  {
   "cell_type": "code",
   "execution_count": null,
   "metadata": {},
   "outputs": [],
   "source": [
    "import pandas as pd"
   ]
  },
  {
   "cell_type": "code",
   "execution_count": null,
   "metadata": {},
   "outputs": [],
   "source": [
    "import glob"
   ]
  },
  {
   "cell_type": "code",
   "execution_count": null,
   "metadata": {},
   "outputs": [],
   "source": [
    "xl_fns = glob.glob(\"E*.xlsx\")\n",
    "xl_fns"
   ]
  },
  {
   "cell_type": "code",
   "execution_count": null,
   "metadata": {},
   "outputs": [],
   "source": [
    "df = pd.read_excel(xl_fns[0],index_col=0)"
   ]
  },
  {
   "cell_type": "code",
   "execution_count": null,
   "metadata": {},
   "outputs": [],
   "source": [
    "df.info()"
   ]
  },
  {
   "cell_type": "code",
   "execution_count": null,
   "metadata": {},
   "outputs": [],
   "source": [
    "G = df.groupby([\"drug\",\"time\"])[[\"red count\"]].mean()"
   ]
  },
  {
   "cell_type": "code",
   "execution_count": null,
   "metadata": {},
   "outputs": [],
   "source": [
    "G.to_excel(\"Drug_Time_Mean.xlsx\")"
   ]
  },
  {
   "cell_type": "code",
   "execution_count": null,
   "metadata": {},
   "outputs": [],
   "source": [
    "uni_drug = df[\"drug\"].unique()\n",
    "\n",
    "for u in uni_drug:\n",
    "  print(u)\n",
    "\n"
   ]
  },
  {
   "cell_type": "code",
   "execution_count": 28,
   "metadata": {},
   "outputs": [],
   "source": [
    "import os"
   ]
  },
  {
   "cell_type": "code",
   "execution_count": 29,
   "metadata": {},
   "outputs": [],
   "source": [
    "os.makedirs(\"Test2\")"
   ]
  },
  {
   "cell_type": "code",
   "execution_count": 32,
   "metadata": {},
   "outputs": [],
   "source": [
    "def split_dataframe(df, column):\n",
    "\n",
    "  uni = df[column].unique()\n",
    "  for u in uni:\n",
    "    df_x = df[df[column] == u]\n",
    "\n",
    "    out_name = \"Test2/\" + str(u) + \".xlsx\"\n",
    "    df_x.to_excel(out_name)"
   ]
  },
  {
   "cell_type": "code",
   "execution_count": 33,
   "metadata": {},
   "outputs": [],
   "source": [
    "split_dataframe(df, \"cell line\")"
   ]
  },
  {
   "cell_type": "code",
   "execution_count": null,
   "metadata": {},
   "outputs": [],
   "source": [
    "out_name = \"Test/\" + str(u) + \".xlsx\"\n",
    "df_drug.to_excel(out_name)"
   ]
  },
  {
   "cell_type": "code",
   "execution_count": 35,
   "metadata": {},
   "outputs": [
    {
     "data": {
      "text/plain": [
       "['Test2\\\\bfgf.xlsx', 'Test2\\\\oSFM.xlsx']"
      ]
     },
     "execution_count": 35,
     "metadata": {},
     "output_type": "execute_result"
    }
   ],
   "source": [
    "xl_fns = glob.glob(\"Test2/*.xlsx\")\n",
    "xl_fns"
   ]
  },
  {
   "cell_type": "code",
   "execution_count": 38,
   "metadata": {},
   "outputs": [],
   "source": [
    "def read_and_combine_dfs(xl_fns):\n",
    "\n",
    "  df_list = []\n",
    "\n",
    "  for fn in xl_fns:\n",
    "    df = pd.read_excel(fn,index_col=0)\n",
    "    df_list.append(df)\n",
    "\n",
    "  df_all = pd.concat(df_list)\n",
    "  return df_all"
   ]
  },
  {
   "cell_type": "code",
   "execution_count": 39,
   "metadata": {},
   "outputs": [],
   "source": [
    "df_all = read_and_combine_dfs(xl_fns)"
   ]
  },
  {
   "cell_type": "code",
   "execution_count": 40,
   "metadata": {},
   "outputs": [
    {
     "data": {
      "text/html": [
       "<div>\n",
       "<style scoped>\n",
       "    .dataframe tbody tr th:only-of-type {\n",
       "        vertical-align: middle;\n",
       "    }\n",
       "\n",
       "    .dataframe tbody tr th {\n",
       "        vertical-align: top;\n",
       "    }\n",
       "\n",
       "    .dataframe thead th {\n",
       "        text-align: right;\n",
       "    }\n",
       "</style>\n",
       "<table border=\"1\" class=\"dataframe\">\n",
       "  <thead>\n",
       "    <tr style=\"text-align: right;\">\n",
       "      <th></th>\n",
       "      <th>well</th>\n",
       "      <th>time</th>\n",
       "      <th>drug</th>\n",
       "      <th>cell line</th>\n",
       "      <th>labels</th>\n",
       "      <th>all cell count</th>\n",
       "      <th>mean cell area</th>\n",
       "      <th>confluency</th>\n",
       "      <th>green count</th>\n",
       "      <th>green count(%)</th>\n",
       "      <th>red count</th>\n",
       "      <th>red count(%)</th>\n",
       "      <th>green area(%)</th>\n",
       "      <th>red area(%)</th>\n",
       "      <th>brightness</th>\n",
       "      <th>plate_id</th>\n",
       "    </tr>\n",
       "  </thead>\n",
       "  <tbody>\n",
       "    <tr>\n",
       "      <th>3570</th>\n",
       "      <td>I03</td>\n",
       "      <td>0</td>\n",
       "      <td>Positive Control</td>\n",
       "      <td>bfgf</td>\n",
       "      <td>2</td>\n",
       "      <td>1139</td>\n",
       "      <td>31</td>\n",
       "      <td>6</td>\n",
       "      <td>21</td>\n",
       "      <td>1.84</td>\n",
       "      <td>2</td>\n",
       "      <td>0.18</td>\n",
       "      <td>0</td>\n",
       "      <td>0</td>\n",
       "      <td>107.470731</td>\n",
       "      <td>0</td>\n",
       "    </tr>\n",
       "    <tr>\n",
       "      <th>3571</th>\n",
       "      <td>I03</td>\n",
       "      <td>1</td>\n",
       "      <td>Positive Control</td>\n",
       "      <td>bfgf</td>\n",
       "      <td>2</td>\n",
       "      <td>508</td>\n",
       "      <td>28</td>\n",
       "      <td>2</td>\n",
       "      <td>14</td>\n",
       "      <td>2.76</td>\n",
       "      <td>9</td>\n",
       "      <td>1.77</td>\n",
       "      <td>0</td>\n",
       "      <td>0</td>\n",
       "      <td>97.217116</td>\n",
       "      <td>0</td>\n",
       "    </tr>\n",
       "    <tr>\n",
       "      <th>3572</th>\n",
       "      <td>I03</td>\n",
       "      <td>2</td>\n",
       "      <td>Positive Control</td>\n",
       "      <td>bfgf</td>\n",
       "      <td>2</td>\n",
       "      <td>573</td>\n",
       "      <td>27</td>\n",
       "      <td>2</td>\n",
       "      <td>46</td>\n",
       "      <td>8.03</td>\n",
       "      <td>9</td>\n",
       "      <td>1.57</td>\n",
       "      <td>4</td>\n",
       "      <td>0</td>\n",
       "      <td>97.383997</td>\n",
       "      <td>0</td>\n",
       "    </tr>\n",
       "    <tr>\n",
       "      <th>3573</th>\n",
       "      <td>I03</td>\n",
       "      <td>3</td>\n",
       "      <td>Positive Control</td>\n",
       "      <td>bfgf</td>\n",
       "      <td>2</td>\n",
       "      <td>552</td>\n",
       "      <td>28</td>\n",
       "      <td>2</td>\n",
       "      <td>77</td>\n",
       "      <td>13.95</td>\n",
       "      <td>6</td>\n",
       "      <td>1.09</td>\n",
       "      <td>8</td>\n",
       "      <td>0</td>\n",
       "      <td>97.134029</td>\n",
       "      <td>0</td>\n",
       "    </tr>\n",
       "    <tr>\n",
       "      <th>3574</th>\n",
       "      <td>I03</td>\n",
       "      <td>4</td>\n",
       "      <td>Positive Control</td>\n",
       "      <td>bfgf</td>\n",
       "      <td>2</td>\n",
       "      <td>583</td>\n",
       "      <td>28</td>\n",
       "      <td>2</td>\n",
       "      <td>117</td>\n",
       "      <td>20.07</td>\n",
       "      <td>4</td>\n",
       "      <td>0.69</td>\n",
       "      <td>11</td>\n",
       "      <td>0</td>\n",
       "      <td>98.503829</td>\n",
       "      <td>0</td>\n",
       "    </tr>\n",
       "    <tr>\n",
       "      <th>...</th>\n",
       "      <td>...</td>\n",
       "      <td>...</td>\n",
       "      <td>...</td>\n",
       "      <td>...</td>\n",
       "      <td>...</td>\n",
       "      <td>...</td>\n",
       "      <td>...</td>\n",
       "      <td>...</td>\n",
       "      <td>...</td>\n",
       "      <td>...</td>\n",
       "      <td>...</td>\n",
       "      <td>...</td>\n",
       "      <td>...</td>\n",
       "      <td>...</td>\n",
       "      <td>...</td>\n",
       "      <td>...</td>\n",
       "    </tr>\n",
       "    <tr>\n",
       "      <th>28924</th>\n",
       "      <td>I05</td>\n",
       "      <td>40</td>\n",
       "      <td>Positive Control</td>\n",
       "      <td>oSFM</td>\n",
       "      <td>2</td>\n",
       "      <td>343</td>\n",
       "      <td>33</td>\n",
       "      <td>2</td>\n",
       "      <td>301</td>\n",
       "      <td>87.76</td>\n",
       "      <td>277</td>\n",
       "      <td>80.76</td>\n",
       "      <td>58</td>\n",
       "      <td>20</td>\n",
       "      <td>108.839727</td>\n",
       "      <td>3</td>\n",
       "    </tr>\n",
       "    <tr>\n",
       "      <th>28925</th>\n",
       "      <td>I05</td>\n",
       "      <td>41</td>\n",
       "      <td>Positive Control</td>\n",
       "      <td>oSFM</td>\n",
       "      <td>2</td>\n",
       "      <td>355</td>\n",
       "      <td>33</td>\n",
       "      <td>2</td>\n",
       "      <td>302</td>\n",
       "      <td>85.07</td>\n",
       "      <td>263</td>\n",
       "      <td>74.08</td>\n",
       "      <td>55</td>\n",
       "      <td>13</td>\n",
       "      <td>109.263333</td>\n",
       "      <td>3</td>\n",
       "    </tr>\n",
       "    <tr>\n",
       "      <th>28926</th>\n",
       "      <td>I05</td>\n",
       "      <td>42</td>\n",
       "      <td>Positive Control</td>\n",
       "      <td>oSFM</td>\n",
       "      <td>2</td>\n",
       "      <td>368</td>\n",
       "      <td>33</td>\n",
       "      <td>2</td>\n",
       "      <td>310</td>\n",
       "      <td>84.24</td>\n",
       "      <td>280</td>\n",
       "      <td>76.09</td>\n",
       "      <td>55</td>\n",
       "      <td>14</td>\n",
       "      <td>110.361021</td>\n",
       "      <td>3</td>\n",
       "    </tr>\n",
       "    <tr>\n",
       "      <th>28927</th>\n",
       "      <td>I05</td>\n",
       "      <td>43</td>\n",
       "      <td>Positive Control</td>\n",
       "      <td>oSFM</td>\n",
       "      <td>2</td>\n",
       "      <td>342</td>\n",
       "      <td>32</td>\n",
       "      <td>1</td>\n",
       "      <td>305</td>\n",
       "      <td>89.18</td>\n",
       "      <td>265</td>\n",
       "      <td>77.49</td>\n",
       "      <td>59</td>\n",
       "      <td>16</td>\n",
       "      <td>109.031673</td>\n",
       "      <td>3</td>\n",
       "    </tr>\n",
       "    <tr>\n",
       "      <th>28928</th>\n",
       "      <td>I05</td>\n",
       "      <td>44</td>\n",
       "      <td>Positive Control</td>\n",
       "      <td>oSFM</td>\n",
       "      <td>2</td>\n",
       "      <td>367</td>\n",
       "      <td>32</td>\n",
       "      <td>2</td>\n",
       "      <td>323</td>\n",
       "      <td>88.01</td>\n",
       "      <td>279</td>\n",
       "      <td>76.02</td>\n",
       "      <td>57</td>\n",
       "      <td>15</td>\n",
       "      <td>109.983635</td>\n",
       "      <td>3</td>\n",
       "    </tr>\n",
       "  </tbody>\n",
       "</table>\n",
       "<p>474 rows × 16 columns</p>\n",
       "</div>"
      ],
      "text/plain": [
       "      well  time              drug cell line  labels  all cell count  \\\n",
       "3570   I03     0  Positive Control      bfgf       2            1139   \n",
       "3571   I03     1  Positive Control      bfgf       2             508   \n",
       "3572   I03     2  Positive Control      bfgf       2             573   \n",
       "3573   I03     3  Positive Control      bfgf       2             552   \n",
       "3574   I03     4  Positive Control      bfgf       2             583   \n",
       "...    ...   ...               ...       ...     ...             ...   \n",
       "28924  I05    40  Positive Control      oSFM       2             343   \n",
       "28925  I05    41  Positive Control      oSFM       2             355   \n",
       "28926  I05    42  Positive Control      oSFM       2             368   \n",
       "28927  I05    43  Positive Control      oSFM       2             342   \n",
       "28928  I05    44  Positive Control      oSFM       2             367   \n",
       "\n",
       "       mean cell area  confluency  green count  green count(%)  red count  \\\n",
       "3570               31           6           21            1.84          2   \n",
       "3571               28           2           14            2.76          9   \n",
       "3572               27           2           46            8.03          9   \n",
       "3573               28           2           77           13.95          6   \n",
       "3574               28           2          117           20.07          4   \n",
       "...               ...         ...          ...             ...        ...   \n",
       "28924              33           2          301           87.76        277   \n",
       "28925              33           2          302           85.07        263   \n",
       "28926              33           2          310           84.24        280   \n",
       "28927              32           1          305           89.18        265   \n",
       "28928              32           2          323           88.01        279   \n",
       "\n",
       "       red count(%)  green area(%)  red area(%)  brightness  plate_id  \n",
       "3570           0.18              0            0  107.470731         0  \n",
       "3571           1.77              0            0   97.217116         0  \n",
       "3572           1.57              4            0   97.383997         0  \n",
       "3573           1.09              8            0   97.134029         0  \n",
       "3574           0.69             11            0   98.503829         0  \n",
       "...             ...            ...          ...         ...       ...  \n",
       "28924         80.76             58           20  108.839727         3  \n",
       "28925         74.08             55           13  109.263333         3  \n",
       "28926         76.09             55           14  110.361021         3  \n",
       "28927         77.49             59           16  109.031673         3  \n",
       "28928         76.02             57           15  109.983635         3  \n",
       "\n",
       "[474 rows x 16 columns]"
      ]
     },
     "execution_count": 40,
     "metadata": {},
     "output_type": "execute_result"
    }
   ],
   "source": [
    "df_all"
   ]
  },
  {
   "cell_type": "code",
   "execution_count": null,
   "metadata": {},
   "outputs": [],
   "source": []
  }
 ],
 "metadata": {
  "kernelspec": {
   "display_name": "base",
   "language": "python",
   "name": "python3"
  },
  "language_info": {
   "codemirror_mode": {
    "name": "ipython",
    "version": 3
   },
   "file_extension": ".py",
   "mimetype": "text/x-python",
   "name": "python",
   "nbconvert_exporter": "python",
   "pygments_lexer": "ipython3",
   "version": "3.8.8"
  },
  "orig_nbformat": 4
 },
 "nbformat": 4,
 "nbformat_minor": 2
}

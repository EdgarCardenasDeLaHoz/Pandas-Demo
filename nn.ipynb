{
 "cells": [
  {
   "cell_type": "code",
   "execution_count": 3,
   "metadata": {},
   "outputs": [
    {
     "name": "stdout",
     "output_type": "stream",
     "text": [
      "Requirement already satisfied: torch in c:\\users\\eac84\\anaconda3\\lib\\site-packages (1.10.0)\n",
      "Requirement already satisfied: typing_extensions in c:\\users\\eac84\\anaconda3\\lib\\site-packages (from torch) (4.3.0)\n"
     ]
    }
   ],
   "source": [
    "!pip install torch"
   ]
  },
  {
   "cell_type": "code",
   "execution_count": 20,
   "metadata": {},
   "outputs": [],
   "source": [
    "%matplotlib qt"
   ]
  },
  {
   "cell_type": "code",
   "execution_count": 5,
   "metadata": {},
   "outputs": [],
   "source": [
    "import torch\n",
    "import numpy as np \n",
    "import matplotlib.pyplot as plt"
   ]
  },
  {
   "cell_type": "code",
   "execution_count": 12,
   "metadata": {},
   "outputs": [],
   "source": [
    "import torch \n",
    "import torch.nn as nn\n",
    "import torch.nn.functional as F\n",
    "\n",
    "# Define neural network \n",
    "class Network(nn.Module): \n",
    "   def __init__(self, input_size, output_size): \n",
    "       super(Network, self).__init__() \n",
    "        \n",
    "       self.layer1 = nn.Linear(input_size, 24) \n",
    "       self.layer2 = nn.Linear(24, 24) \n",
    "       self.layer3 = nn.Linear(24, output_size) \n",
    "\n",
    "\n",
    "   def forward(self, x): \n",
    "        x = torch.tensor(x).float()\n",
    "        x1 = F.relu(self.layer1(x)) \n",
    "        x2 = F.relu(self.layer2(x1)) \n",
    "        x3 = self.layer3(x2) \n",
    "        return x3 \n",
    " \n",
    "def make_poly():\n",
    "\n",
    "  a = np.random.uniform(-100,100)\n",
    "  b = np.random.uniform(-100,100)\n",
    "  c = np.random.uniform(-100,100)\n",
    "\n",
    "  x = np.arange(-50,50)\n",
    "  y = a*(x)**2 + b*(x) + c\n",
    "\n",
    "  return y , (a,b,c)\n",
    "\n",
    "import torch.optim as optim\n",
    "# Training Function \n",
    "def train(model,num_epochs): \n",
    "    \n",
    "    optimizer = optim.Adam(model.parameters(),lr=1e-3)\n",
    "    print(\"Begin training...\") \n",
    "    for epoch in range(1, num_epochs+1): \n",
    "        input,target = make_poly()\n",
    "\n",
    "        #for data in enumerate(train_loader, 0): \n",
    "        optimizer.zero_grad()   # zero the parameter gradients          \n",
    "        prediction = model(y)   # predict output from the model \n",
    "        train_loss = loss_fn(input, target)   # calculate loss for the predicted output  \n",
    "\n",
    "        train_loss.backward()   # backpropagate the loss \n",
    "        optimizer.step()\n",
    "        print(train_loss)        # adjust parameters based on the calculated gradients \n",
    " "
   ]
  },
  {
   "cell_type": "code",
   "execution_count": 21,
   "metadata": {},
   "outputs": [],
   "source": [
    "for i in range(10):\n",
    "  plt.plot(make_poly()[0])"
   ]
  },
  {
   "cell_type": "code",
   "execution_count": 14,
   "metadata": {},
   "outputs": [],
   "source": [
    "input, target = make_poly()"
   ]
  },
  {
   "cell_type": "code",
   "execution_count": 16,
   "metadata": {},
   "outputs": [
    {
     "data": {
      "text/plain": [
       "(-6.848881758053466, -23.86813390293115, 43.87173608494339)"
      ]
     },
     "execution_count": 16,
     "metadata": {},
     "output_type": "execute_result"
    }
   ],
   "source": [
    "target"
   ]
  },
  {
   "cell_type": "code",
   "execution_count": null,
   "metadata": {},
   "outputs": [],
   "source": []
  }
 ],
 "metadata": {
  "kernelspec": {
   "display_name": "base",
   "language": "python",
   "name": "python3"
  },
  "language_info": {
   "codemirror_mode": {
    "name": "ipython",
    "version": 3
   },
   "file_extension": ".py",
   "mimetype": "text/x-python",
   "name": "python",
   "nbconvert_exporter": "python",
   "pygments_lexer": "ipython3",
   "version": "3.8.8"
  },
  "orig_nbformat": 4
 },
 "nbformat": 4,
 "nbformat_minor": 2
}

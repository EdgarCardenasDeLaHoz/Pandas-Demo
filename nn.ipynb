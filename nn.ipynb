{
 "cells": [
  {
   "cell_type": "code",
   "execution_count": 3,
   "metadata": {},
   "outputs": [
    {
     "name": "stdout",
     "output_type": "stream",
     "text": [
      "Requirement already satisfied: torch in c:\\users\\eac84\\anaconda3\\lib\\site-packages (1.10.0)\n",
      "Requirement already satisfied: typing_extensions in c:\\users\\eac84\\anaconda3\\lib\\site-packages (from torch) (4.3.0)\n"
     ]
    }
   ],
   "source": [
    "!pip install torch"
   ]
  },
  {
   "cell_type": "code",
   "execution_count": 20,
   "metadata": {},
   "outputs": [],
   "source": [
    "%matplotlib qt"
   ]
  },
  {
   "cell_type": "code",
   "execution_count": 5,
   "metadata": {},
   "outputs": [],
   "source": [
    "import torch\n",
    "import numpy as np \n",
    "import matplotlib.pyplot as plt"
   ]
  },
  {
   "cell_type": "code",
   "execution_count": 37,
   "metadata": {},
   "outputs": [],
   "source": [
    "import torch \n",
    "import torch.nn as nn\n",
    "import torch.nn.functional as F\n",
    "\n",
    "# Define neural network \n",
    "class Network(nn.Module): \n",
    "   def __init__(self, input_size, output_size): \n",
    "       super(Network, self).__init__() \n",
    "        \n",
    "       self.layer1 = nn.Linear(input_size, 24) \n",
    "       self.layer2 = nn.Linear(24, 24) \n",
    "       self.layer3 = nn.Linear(24, output_size) \n",
    "\n",
    "\n",
    "   def forward(self, x): \n",
    "        x = torch.tensor(x).float()\n",
    "        x1 = F.relu(self.layer1(x)) \n",
    "        x2 = F.relu(self.layer2(x1)) \n",
    "        x3 = self.layer3(x2) \n",
    "        return x3 \n",
    " \n",
    "def make_poly():\n",
    "\n",
    "  a = np.random.uniform(-100,100)\n",
    "  b = np.random.uniform(-100,100)\n",
    "  c = np.random.uniform(-100,100)\n",
    "\n",
    "  x = np.arange(-50,50)\n",
    "  y = a*(x)**2 + b*(x) + c\n",
    "\n",
    "  return y , torch.tensor(np.array([a,b,c]))\n",
    "\n",
    "import torch.optim as optim\n",
    "# Training Function \n",
    "\n",
    "def train(model,num_epochs): \n",
    "    \n",
    "    optimizer = optim.Adam(model.parameters(),lr=1e-3)\n",
    "    print(\"Begin training...\") \n",
    "    for epoch in range(1, num_epochs+1): \n",
    "        input,target = make_poly()\n",
    "\n",
    "        #for data in enumerate(train_loader, 0): \n",
    "        optimizer.zero_grad()   # zero the parameter gradients          \n",
    "        prediction = model(input)   # predict output from the model \n",
    "        train_loss = loss_fn(prediction, target)   # calculate loss for the predicted output  \n",
    "        print(train_loss)        # adjust parameters based on the calculated gradients \n",
    "        train_loss.backward()   # backpropagate the loss \n",
    "        optimizer.step()\n",
    "        \n",
    "\n",
    "def loss_fn(prediction,output):\n",
    "    loss = (prediction - output)**2\n",
    "    return loss.sum()"
   ]
  },
  {
   "cell_type": "code",
   "execution_count": 38,
   "metadata": {},
   "outputs": [
    {
     "name": "stdout",
     "output_type": "stream",
     "text": [
      "Begin training...\n",
      "tensor(97536655.6385, dtype=torch.float64, grad_fn=<SumBackward0>)\n",
      "tensor(19564282.1946, dtype=torch.float64, grad_fn=<SumBackward0>)\n",
      "tensor(7594628.6305, dtype=torch.float64, grad_fn=<SumBackward0>)\n",
      "tensor(11019637.6835, dtype=torch.float64, grad_fn=<SumBackward0>)\n",
      "tensor(37051253.7776, dtype=torch.float64, grad_fn=<SumBackward0>)\n",
      "tensor(14382747.6554, dtype=torch.float64, grad_fn=<SumBackward0>)\n",
      "tensor(6589915.0170, dtype=torch.float64, grad_fn=<SumBackward0>)\n",
      "tensor(15065095.8573, dtype=torch.float64, grad_fn=<SumBackward0>)\n",
      "tensor(2142635.4639, dtype=torch.float64, grad_fn=<SumBackward0>)\n",
      "tensor(4778305.4021, dtype=torch.float64, grad_fn=<SumBackward0>)\n",
      "tensor(2073205.9779, dtype=torch.float64, grad_fn=<SumBackward0>)\n",
      "tensor(16294248.7286, dtype=torch.float64, grad_fn=<SumBackward0>)\n",
      "tensor(935697.7712, dtype=torch.float64, grad_fn=<SumBackward0>)\n",
      "tensor(3120803.0603, dtype=torch.float64, grad_fn=<SumBackward0>)\n",
      "tensor(1675681.3682, dtype=torch.float64, grad_fn=<SumBackward0>)\n",
      "tensor(420779.6006, dtype=torch.float64, grad_fn=<SumBackward0>)\n",
      "tensor(4703124.7083, dtype=torch.float64, grad_fn=<SumBackward0>)\n",
      "tensor(23287.5054, dtype=torch.float64, grad_fn=<SumBackward0>)\n",
      "tensor(573159.5855, dtype=torch.float64, grad_fn=<SumBackward0>)\n",
      "tensor(13092963.2371, dtype=torch.float64, grad_fn=<SumBackward0>)\n",
      "tensor(7120165.9327, dtype=torch.float64, grad_fn=<SumBackward0>)\n",
      "tensor(519348.7062, dtype=torch.float64, grad_fn=<SumBackward0>)\n",
      "tensor(2501204.2586, dtype=torch.float64, grad_fn=<SumBackward0>)\n",
      "tensor(2178780.5382, dtype=torch.float64, grad_fn=<SumBackward0>)\n",
      "tensor(239220.4136, dtype=torch.float64, grad_fn=<SumBackward0>)\n",
      "tensor(255263.2541, dtype=torch.float64, grad_fn=<SumBackward0>)\n",
      "tensor(2822430.2164, dtype=torch.float64, grad_fn=<SumBackward0>)\n",
      "tensor(270583.1384, dtype=torch.float64, grad_fn=<SumBackward0>)\n",
      "tensor(407057.4921, dtype=torch.float64, grad_fn=<SumBackward0>)\n",
      "tensor(5609797.2606, dtype=torch.float64, grad_fn=<SumBackward0>)\n",
      "tensor(1198943.7311, dtype=torch.float64, grad_fn=<SumBackward0>)\n",
      "tensor(143609.8889, dtype=torch.float64, grad_fn=<SumBackward0>)\n",
      "tensor(503230.4199, dtype=torch.float64, grad_fn=<SumBackward0>)\n",
      "tensor(3785992.5092, dtype=torch.float64, grad_fn=<SumBackward0>)\n",
      "tensor(6201730.6050, dtype=torch.float64, grad_fn=<SumBackward0>)\n",
      "tensor(242124.6044, dtype=torch.float64, grad_fn=<SumBackward0>)\n",
      "tensor(3679913.2461, dtype=torch.float64, grad_fn=<SumBackward0>)\n",
      "tensor(4825544.7989, dtype=torch.float64, grad_fn=<SumBackward0>)\n",
      "tensor(1097342.1903, dtype=torch.float64, grad_fn=<SumBackward0>)\n",
      "tensor(2431024.0602, dtype=torch.float64, grad_fn=<SumBackward0>)\n",
      "tensor(6214744.7866, dtype=torch.float64, grad_fn=<SumBackward0>)\n",
      "tensor(2628576.2375, dtype=torch.float64, grad_fn=<SumBackward0>)\n",
      "tensor(7032989.7232, dtype=torch.float64, grad_fn=<SumBackward0>)\n",
      "tensor(879751.6681, dtype=torch.float64, grad_fn=<SumBackward0>)\n",
      "tensor(517258.8254, dtype=torch.float64, grad_fn=<SumBackward0>)\n",
      "tensor(2257195.3446, dtype=torch.float64, grad_fn=<SumBackward0>)\n",
      "tensor(313142.2827, dtype=torch.float64, grad_fn=<SumBackward0>)\n",
      "tensor(1902258.5218, dtype=torch.float64, grad_fn=<SumBackward0>)\n",
      "tensor(6227801.5741, dtype=torch.float64, grad_fn=<SumBackward0>)\n",
      "tensor(563348.1967, dtype=torch.float64, grad_fn=<SumBackward0>)\n",
      "tensor(882847.0388, dtype=torch.float64, grad_fn=<SumBackward0>)\n",
      "tensor(184858.6563, dtype=torch.float64, grad_fn=<SumBackward0>)\n",
      "tensor(55599.3808, dtype=torch.float64, grad_fn=<SumBackward0>)\n",
      "tensor(2017941.3736, dtype=torch.float64, grad_fn=<SumBackward0>)\n",
      "tensor(387555.5718, dtype=torch.float64, grad_fn=<SumBackward0>)\n",
      "tensor(824183.9454, dtype=torch.float64, grad_fn=<SumBackward0>)\n",
      "tensor(747635.8582, dtype=torch.float64, grad_fn=<SumBackward0>)\n",
      "tensor(23493.0538, dtype=torch.float64, grad_fn=<SumBackward0>)\n",
      "tensor(922392.0021, dtype=torch.float64, grad_fn=<SumBackward0>)\n",
      "tensor(102195.2817, dtype=torch.float64, grad_fn=<SumBackward0>)\n",
      "tensor(2388623.8584, dtype=torch.float64, grad_fn=<SumBackward0>)\n",
      "tensor(1179277.3567, dtype=torch.float64, grad_fn=<SumBackward0>)\n",
      "tensor(203450.0526, dtype=torch.float64, grad_fn=<SumBackward0>)\n",
      "tensor(917945.2675, dtype=torch.float64, grad_fn=<SumBackward0>)\n",
      "tensor(504124.4997, dtype=torch.float64, grad_fn=<SumBackward0>)\n",
      "tensor(39287.3646, dtype=torch.float64, grad_fn=<SumBackward0>)\n",
      "tensor(46806.6515, dtype=torch.float64, grad_fn=<SumBackward0>)\n",
      "tensor(58048.3445, dtype=torch.float64, grad_fn=<SumBackward0>)\n",
      "tensor(148328.4366, dtype=torch.float64, grad_fn=<SumBackward0>)\n",
      "tensor(2580721.8355, dtype=torch.float64, grad_fn=<SumBackward0>)\n",
      "tensor(548081.3972, dtype=torch.float64, grad_fn=<SumBackward0>)\n",
      "tensor(2919552.8771, dtype=torch.float64, grad_fn=<SumBackward0>)\n",
      "tensor(1329334.6194, dtype=torch.float64, grad_fn=<SumBackward0>)\n",
      "tensor(95038.9907, dtype=torch.float64, grad_fn=<SumBackward0>)\n",
      "tensor(448165.2690, dtype=torch.float64, grad_fn=<SumBackward0>)\n",
      "tensor(4818109.6641, dtype=torch.float64, grad_fn=<SumBackward0>)\n",
      "tensor(130387.9014, dtype=torch.float64, grad_fn=<SumBackward0>)\n",
      "tensor(11117.7490, dtype=torch.float64, grad_fn=<SumBackward0>)\n",
      "tensor(2693359.8445, dtype=torch.float64, grad_fn=<SumBackward0>)\n",
      "tensor(3757256.8174, dtype=torch.float64, grad_fn=<SumBackward0>)\n",
      "tensor(9992048.0937, dtype=torch.float64, grad_fn=<SumBackward0>)\n",
      "tensor(6908089.9488, dtype=torch.float64, grad_fn=<SumBackward0>)\n",
      "tensor(73418.5939, dtype=torch.float64, grad_fn=<SumBackward0>)\n",
      "tensor(5816.1697, dtype=torch.float64, grad_fn=<SumBackward0>)\n",
      "tensor(3391844.4940, dtype=torch.float64, grad_fn=<SumBackward0>)\n",
      "tensor(15868.8026, dtype=torch.float64, grad_fn=<SumBackward0>)\n",
      "tensor(98539.7014, dtype=torch.float64, grad_fn=<SumBackward0>)\n",
      "tensor(325819.0616, dtype=torch.float64, grad_fn=<SumBackward0>)\n",
      "tensor(245677.8303, dtype=torch.float64, grad_fn=<SumBackward0>)\n",
      "tensor(7666187.0072, dtype=torch.float64, grad_fn=<SumBackward0>)\n",
      "tensor(1969.7423, dtype=torch.float64, grad_fn=<SumBackward0>)\n",
      "tensor(211211.4647, dtype=torch.float64, grad_fn=<SumBackward0>)\n",
      "tensor(86192.5937, dtype=torch.float64, grad_fn=<SumBackward0>)\n",
      "tensor(183190.7807, dtype=torch.float64, grad_fn=<SumBackward0>)\n",
      "tensor(69434.2992, dtype=torch.float64, grad_fn=<SumBackward0>)\n",
      "tensor(371799.6227, dtype=torch.float64, grad_fn=<SumBackward0>)\n",
      "tensor(554473.0223, dtype=torch.float64, grad_fn=<SumBackward0>)\n",
      "tensor(195765.8562, dtype=torch.float64, grad_fn=<SumBackward0>)\n",
      "tensor(330146.5204, dtype=torch.float64, grad_fn=<SumBackward0>)\n",
      "tensor(125259.7829, dtype=torch.float64, grad_fn=<SumBackward0>)\n"
     ]
    }
   ],
   "source": [
    "\n",
    "\n",
    "\n",
    "train(model,100)"
   ]
  },
  {
   "cell_type": "code",
   "execution_count": 14,
   "metadata": {},
   "outputs": [],
   "source": [
    "input, target = make_poly()"
   ]
  },
  {
   "cell_type": "code",
   "execution_count": 31,
   "metadata": {},
   "outputs": [],
   "source": [
    "model = Network(100,3)"
   ]
  },
  {
   "cell_type": "code",
   "execution_count": 30,
   "metadata": {},
   "outputs": [
    {
     "data": {
      "text/plain": [
       "(100,)"
      ]
     },
     "execution_count": 30,
     "metadata": {},
     "output_type": "execute_result"
    }
   ],
   "source": []
  },
  {
   "cell_type": "code",
   "execution_count": null,
   "metadata": {},
   "outputs": [],
   "source": []
  }
 ],
 "metadata": {
  "kernelspec": {
   "display_name": "base",
   "language": "python",
   "name": "python3"
  },
  "language_info": {
   "codemirror_mode": {
    "name": "ipython",
    "version": 3
   },
   "file_extension": ".py",
   "mimetype": "text/x-python",
   "name": "python",
   "nbconvert_exporter": "python",
   "pygments_lexer": "ipython3",
   "version": "3.8.8"
  },
  "orig_nbformat": 4
 },
 "nbformat": 4,
 "nbformat_minor": 2
}
